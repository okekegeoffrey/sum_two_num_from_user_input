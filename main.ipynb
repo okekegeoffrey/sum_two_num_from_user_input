{
 "cells": [
  {
   "cell_type": "markdown",
   "metadata": {},
   "source": [
    "## Sum up Two Numbers from User Input\n",
    "This program asks the user to enter two numbers, adds them together, and then displays the result."
   ]
  },
  {
   "cell_type": "code",
   "execution_count": 1,
   "metadata": {},
   "outputs": [
    {
     "name": "stdout",
     "output_type": "stream",
     "text": [
      "466\n"
     ]
    }
   ],
   "source": [
    "# start total at 0 and start counting from 1 (one)\n",
    "total = 0\n",
    "count = 1\n",
    "\n",
    "# while count is still < 2\n",
    "while count <= 2:\n",
    "  if count == 1:    # use a personalised prompt message for each prompt\n",
    "    number = int(input(\"Enter the first number: \"))\n",
    "    total = total + number \n",
    "    count = count + 1\n",
    "  elif count == 2:  # use a personalised prompt message for each prompt\n",
    "    number = int(input(\"Enter the second number: \"))\n",
    "    total = total + number\n",
    "    count = count + 1\n",
    "print(total)"
   ]
  },
  {
   "cell_type": "code",
   "execution_count": null,
   "metadata": {},
   "outputs": [],
   "source": []
  }
 ],
 "metadata": {
  "kernelspec": {
   "display_name": "base",
   "language": "python",
   "name": "python3"
  },
  "language_info": {
   "codemirror_mode": {
    "name": "ipython",
    "version": 3
   },
   "file_extension": ".py",
   "mimetype": "text/x-python",
   "name": "python",
   "nbconvert_exporter": "python",
   "pygments_lexer": "ipython3",
   "version": "3.10.9"
  }
 },
 "nbformat": 4,
 "nbformat_minor": 2
}
